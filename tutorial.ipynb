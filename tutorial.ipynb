{
 "cells": [
  {
   "cell_type": "markdown",
   "id": "growing-peeing",
   "metadata": {},
   "source": [
    "# Testing the iiif_prezi3\n",
    "In this tutorial I use my fork of iiif_prezi3. Data model is generate using generatecodefromschema/generatecodefromschema.py."
   ]
  },
  {
   "cell_type": "code",
   "execution_count": 1,
   "id": "associate-pointer",
   "metadata": {},
   "outputs": [],
   "source": [
    "\n",
    "from iiif_prezi3 import Manifest, Canvas, Collection, ResourceItem, Reference\n"
   ]
  },
  {
   "cell_type": "markdown",
   "id": "standard-spider",
   "metadata": {},
   "source": [
    "We create a sample collection and we add a reference to a Manifest."
   ]
  },
  {
   "cell_type": "code",
   "execution_count": 2,
   "id": "addressed-convention",
   "metadata": {},
   "outputs": [],
   "source": [
    "mycollection = Collection(id='http://iiif.example.org/prezi/Collection/0', type='Collection')"
   ]
  },
  {
   "cell_type": "code",
   "execution_count": 3,
   "id": "physical-scratch",
   "metadata": {},
   "outputs": [],
   "source": [
    "myrefmanifest = mycollection.add_manifest_reference_to_items(manifest_id='http://iiif.example.org/prezi/Manifest/0',label={'en': 'default label'})"
   ]
  },
  {
   "cell_type": "code",
   "execution_count": 4,
   "id": "overall-intelligence",
   "metadata": {},
   "outputs": [
    {
     "name": "stdout",
     "output_type": "stream",
     "text": [
      "{\n",
      "  \"id\": \"http://iiif.example.org/prezi/Collection/0\",\n",
      "  \"type\": \"Collection\",\n",
      "  \"items\": [\n",
      "    {\n",
      "      \"id\": \"http://iiif.example.org/prezi/Manifest/0\",\n",
      "      \"label\": {},\n",
      "      \"type\": \"Manifest\"\n",
      "    }\n",
      "  ]\n",
      "}\n"
     ]
    }
   ],
   "source": [
    "print(mycollection.json(exclude_unset=True,indent=2))"
   ]
  },
  {
   "cell_type": "markdown",
   "id": "dental-semester",
   "metadata": {},
   "source": [
    "We have the myrefmanifest to add additional properties:"
   ]
  },
  {
   "cell_type": "code",
   "execution_count": 5,
   "id": "secret-apartment",
   "metadata": {},
   "outputs": [
    {
     "name": "stdout",
     "output_type": "stream",
     "text": [
      "{\n",
      "  \"id\": \"http://iiif.example.org/prezi/Collection/0\",\n",
      "  \"type\": \"Collection\",\n",
      "  \"items\": [\n",
      "    {\n",
      "      \"id\": \"http://iiif.example.org/prezi/Manifest/0\",\n",
      "      \"label\": {},\n",
      "      \"type\": \"Manifest\",\n",
      "      \"thumbnail\": [\n",
      "        {\n",
      "          \"id\": \"https://example.org/img/thumb.jpg\",\n",
      "          \"type\": \"Image\",\n",
      "          \"height\": 34,\n",
      "          \"width\": 435,\n",
      "          \"format\": \"image/jpeg\"\n",
      "        }\n",
      "      ]\n",
      "    }\n",
      "  ]\n",
      "}\n"
     ]
    }
   ],
   "source": [
    "myrefmanifest.thumbnail = [ResourceItem(height=34,width=435,id='https://example.org/img/thumb.jpg',type=\"Image\",format=\"image/jpeg\")]\n",
    "print(mycollection.json(exclude_unset=True,indent=2))"
   ]
  },
  {
   "cell_type": "code",
   "execution_count": 6,
   "id": "listed-jackson",
   "metadata": {},
   "outputs": [],
   "source": [
    "mycollection2 = Collection(id='http://iiif.example.org/prezi/Collection/2', type='Collection')"
   ]
  },
  {
   "cell_type": "markdown",
   "id": "packed-latest",
   "metadata": {},
   "source": [
    "Without using the helper function a collection of collections and manifest can be done as follow:"
   ]
  },
  {
   "cell_type": "code",
   "execution_count": 8,
   "id": "current-remove",
   "metadata": {},
   "outputs": [],
   "source": [
    "mycollection2.items = [Reference(id='http://iiif.example.org/prezi/Manifest/0',type=\"Manifest\",label={\"en\":\"Mylabel\"}),\n",
    "                      mycollection\n",
    "                      ]"
   ]
  },
  {
   "cell_type": "code",
   "execution_count": 9,
   "id": "champion-iceland",
   "metadata": {},
   "outputs": [
    {
     "name": "stdout",
     "output_type": "stream",
     "text": [
      "{\n",
      "  \"id\": \"http://iiif.example.org/prezi/Collection/2\",\n",
      "  \"type\": \"Collection\",\n",
      "  \"items\": [\n",
      "    {\n",
      "      \"id\": \"http://iiif.example.org/prezi/Manifest/0\",\n",
      "      \"label\": {},\n",
      "      \"type\": \"Manifest\"\n",
      "    },\n",
      "    {\n",
      "      \"id\": \"http://iiif.example.org/prezi/Collection/0\",\n",
      "      \"type\": \"Collection\",\n",
      "      \"items\": [\n",
      "        {\n",
      "          \"id\": \"http://iiif.example.org/prezi/Manifest/0\",\n",
      "          \"label\": {},\n",
      "          \"type\": \"Manifest\",\n",
      "          \"thumbnail\": [\n",
      "            {\n",
      "              \"id\": \"https://example.org/img/thumb.jpg\",\n",
      "              \"type\": \"Image\",\n",
      "              \"height\": 34,\n",
      "              \"width\": 435,\n",
      "              \"format\": \"image/jpeg\"\n",
      "            }\n",
      "          ]\n",
      "        }\n",
      "      ]\n",
      "    }\n",
      "  ]\n",
      "}\n"
     ]
    }
   ],
   "source": [
    "print(mycollection2.json(exclude_unset=True,indent=2))"
   ]
  },
  {
   "cell_type": "markdown",
   "id": "grave-parks",
   "metadata": {},
   "source": [
    "## An example for adding a canvas to a manifest "
   ]
  },
  {
   "cell_type": "code",
   "execution_count": 33,
   "id": "anonymous-treasurer",
   "metadata": {},
   "outputs": [],
   "source": [
    "manifest = Manifest(id='http://iiif.example.org/prezi/Manifest/0', type='Manifest', label={'en': 'default label'})\n",
    "canvashandler = manifest.add_canvas_to_items(canvas_id='http://iiif.example.org/prezi/Canvas/0')"
   ]
  },
  {
   "cell_type": "code",
   "execution_count": 34,
   "id": "demonstrated-repository",
   "metadata": {},
   "outputs": [
    {
     "name": "stdout",
     "output_type": "stream",
     "text": [
      "{\n",
      "  \"id\": \"http://iiif.example.org/prezi/Manifest/0\",\n",
      "  \"type\": \"Manifest\",\n",
      "  \"label\": {},\n",
      "  \"items\": [\n",
      "    {\n",
      "      \"id\": \"http://iiif.example.org/prezi/Canvas/0\"\n",
      "    }\n",
      "  ]\n",
      "}\n"
     ]
    }
   ],
   "source": [
    "print(manifest.json(exclude_unset=True,indent=2))"
   ]
  },
  {
   "cell_type": "markdown",
   "id": "theoretical-coverage",
   "metadata": {},
   "source": [
    "We can use the canvashandler to further modify tha canvas."
   ]
  },
  {
   "cell_type": "code",
   "execution_count": 35,
   "id": "expensive-director",
   "metadata": {},
   "outputs": [],
   "source": [
    "canvashandler.height = 123"
   ]
  },
  {
   "cell_type": "code",
   "execution_count": 36,
   "id": "early-panel",
   "metadata": {},
   "outputs": [
    {
     "name": "stdout",
     "output_type": "stream",
     "text": [
      "{\n",
      "  \"id\": \"http://iiif.example.org/prezi/Manifest/0\",\n",
      "  \"type\": \"Manifest\",\n",
      "  \"label\": {},\n",
      "  \"items\": [\n",
      "    {\n",
      "      \"id\": \"http://iiif.example.org/prezi/Canvas/0\",\n",
      "      \"height\": 123\n",
      "    }\n",
      "  ]\n",
      "}\n"
     ]
    }
   ],
   "source": [
    "print(manifest.json(exclude_unset=True,indent=2))"
   ]
  },
  {
   "cell_type": "markdown",
   "id": "received-sussex",
   "metadata": {},
   "source": [
    "We test if the validataion is still working:"
   ]
  },
  {
   "cell_type": "code",
   "execution_count": 37,
   "id": "divine-barcelona",
   "metadata": {},
   "outputs": [
    {
     "ename": "ValidationError",
     "evalue": "1 validation error for Canvas\nwidth\n  value is not a valid integer (type=type_error.integer)",
     "output_type": "error",
     "traceback": [
      "\u001b[0;31m---------------------------------------------------------------------------\u001b[0m",
      "\u001b[0;31mValidationError\u001b[0m                           Traceback (most recent call last)",
      "\u001b[0;32m<ipython-input-37-51bbec6e51ce>\u001b[0m in \u001b[0;36m<module>\u001b[0;34m\u001b[0m\n\u001b[0;32m----> 1\u001b[0;31m \u001b[0mcanvashandler\u001b[0m\u001b[0;34m.\u001b[0m\u001b[0mwidth\u001b[0m \u001b[0;34m=\u001b[0m \u001b[0;34m'test'\u001b[0m\u001b[0;34m\u001b[0m\u001b[0;34m\u001b[0m\u001b[0m\n\u001b[0m",
      "\u001b[0;32m/opt/anaconda3/lib/python3.8/site-packages/pydantic/main.cpython-38-darwin.so\u001b[0m in \u001b[0;36mpydantic.main.BaseModel.__setattr__\u001b[0;34m()\u001b[0m\n",
      "\u001b[0;31mValidationError\u001b[0m: 1 validation error for Canvas\nwidth\n  value is not a valid integer (type=type_error.integer)"
     ]
    }
   ],
   "source": [
    "canvashandler.width = 'test'"
   ]
  },
  {
   "cell_type": "code",
   "execution_count": 40,
   "id": "normal-executive",
   "metadata": {},
   "outputs": [],
   "source": []
  },
  {
   "cell_type": "code",
   "execution_count": null,
   "id": "olympic-arctic",
   "metadata": {},
   "outputs": [],
   "source": []
  },
  {
   "cell_type": "code",
   "execution_count": null,
   "id": "aquatic-needle",
   "metadata": {},
   "outputs": [],
   "source": []
  }
 ],
 "metadata": {
  "kernelspec": {
   "display_name": "Python 3",
   "language": "python",
   "name": "python3"
  },
  "language_info": {
   "codemirror_mode": {
    "name": "ipython",
    "version": 3
   },
   "file_extension": ".py",
   "mimetype": "text/x-python",
   "name": "python",
   "nbconvert_exporter": "python",
   "pygments_lexer": "ipython3",
   "version": "3.8.3"
  }
 },
 "nbformat": 4,
 "nbformat_minor": 5
}
